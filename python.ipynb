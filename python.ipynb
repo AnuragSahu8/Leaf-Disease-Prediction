{
 "cells": [
  {
   "cell_type": "code",
   "execution_count": 1,
   "id": "341e5b8c",
   "metadata": {},
   "outputs": [
    {
     "data": {
      "text/plain": [
       "['India', 'China', 'Canada', 'America', 'British']"
      ]
     },
     "execution_count": 1,
     "metadata": {},
     "output_type": "execute_result"
    }
   ],
   "source": [
    "countries=(\"India China Canada America British\").split()\n",
    "countries"
   ]
  },
  {
   "cell_type": "markdown",
   "id": "1f7252b6",
   "metadata": {},
   "source": [
    "# both the variables pointing to same id"
   ]
  },
  {
   "cell_type": "code",
   "execution_count": 2,
   "id": "a421658d",
   "metadata": {},
   "outputs": [
    {
     "data": {
      "text/plain": [
       "['India', 'China', 'Canada', 'America', 'British', 'Spain']"
      ]
     },
     "execution_count": 2,
     "metadata": {},
     "output_type": "execute_result"
    }
   ],
   "source": [
    "l=countries\n",
    "l.append(\"Spain\")\n",
    "countries"
   ]
  },
  {
   "cell_type": "code",
   "execution_count": 3,
   "id": "cbc3cf69",
   "metadata": {},
   "outputs": [
    {
     "data": {
      "text/plain": [
       "['India', 'China', 'Canada', 'America', 'British', 'Spain', 'France']"
      ]
     },
     "execution_count": 3,
     "metadata": {},
     "output_type": "execute_result"
    }
   ],
   "source": [
    "l=countries[:]\n",
    "l.append(\"France\")\n",
    "l"
   ]
  },
  {
   "cell_type": "code",
   "execution_count": 4,
   "id": "564bd00e",
   "metadata": {},
   "outputs": [
    {
     "data": {
      "text/plain": [
       "['India', 'China', 'Canada', 'America', 'British', 'Spain']"
      ]
     },
     "execution_count": 4,
     "metadata": {},
     "output_type": "execute_result"
    }
   ],
   "source": [
    "countries"
   ]
  },
  {
   "cell_type": "code",
   "execution_count": 5,
   "id": "84823a78",
   "metadata": {},
   "outputs": [],
   "source": [
    "s=countries.copy()\n",
    "s.append(\"Russia\")"
   ]
  },
  {
   "cell_type": "code",
   "execution_count": 6,
   "id": "816c755c",
   "metadata": {},
   "outputs": [
    {
     "data": {
      "text/plain": [
       "['India', 'China', 'Canada', 'America', 'British', 'Spain']"
      ]
     },
     "execution_count": 6,
     "metadata": {},
     "output_type": "execute_result"
    }
   ],
   "source": [
    "countries"
   ]
  },
  {
   "cell_type": "code",
   "execution_count": 1,
   "id": "54348d38",
   "metadata": {},
   "outputs": [
    {
     "data": {
      "text/plain": [
       "'C:\\\\Users\\\\Dell'"
      ]
     },
     "execution_count": 1,
     "metadata": {},
     "output_type": "execute_result"
    }
   ],
   "source": [
    "import os\n",
    "os.getcwd()"
   ]
  },
  {
   "cell_type": "code",
   "execution_count": 11,
   "id": "ff04bf3c",
   "metadata": {},
   "outputs": [
    {
     "data": {
      "text/plain": [
       "array([0, 4, 2, 1])"
      ]
     },
     "execution_count": 11,
     "metadata": {},
     "output_type": "execute_result"
    }
   ],
   "source": [
    "import numpy as np\n",
    "np.random.randint(0,5,4)"
   ]
  },
  {
   "cell_type": "code",
   "execution_count": 1,
   "id": "b43922b5",
   "metadata": {},
   "outputs": [
    {
     "data": {
      "text/plain": [
       "['hii', 'there', 'hey', 'whatup', 'by', 'where']"
      ]
     },
     "execution_count": 1,
     "metadata": {},
     "output_type": "execute_result"
    }
   ],
   "source": [
    "l=[\"hii\",'there','hey']\n",
    "l2=['whatup','by','where']\n",
    "l.extend(l2)\n",
    "l"
   ]
  },
  {
   "cell_type": "code",
   "execution_count": 2,
   "id": "924ba7ee",
   "metadata": {},
   "outputs": [
    {
     "data": {
      "text/plain": [
       "['hii', 'there', 'hey', 'whatup', 'by', 'where', ['whatup', 'by', 'where']]"
      ]
     },
     "execution_count": 2,
     "metadata": {},
     "output_type": "execute_result"
    }
   ],
   "source": [
    "l.append(l2)\n",
    "l"
   ]
  },
  {
   "cell_type": "code",
   "execution_count": 40,
   "id": "035746df",
   "metadata": {},
   "outputs": [
    {
     "name": "stdout",
     "output_type": "stream",
     "text": [
      "\u001b[92mThis is a color\n"
     ]
    }
   ],
   "source": [
    "print('\\033[92mThis is a color')"
   ]
  },
  {
   "cell_type": "code",
   "execution_count": 1,
   "id": "cd3e2231",
   "metadata": {},
   "outputs": [],
   "source": [
    "import tensorflow as tf"
   ]
  },
  {
   "cell_type": "code",
   "execution_count": 6,
   "id": "965bf74e",
   "metadata": {},
   "outputs": [
    {
     "name": "stdout",
     "output_type": "stream",
     "text": [
      "1\n"
     ]
    }
   ],
   "source": [
    "print(len(tf.config.experimental.list_physical_devices('GPU')))"
   ]
  },
  {
   "cell_type": "code",
   "execution_count": 3,
   "id": "85f1d287",
   "metadata": {},
   "outputs": [
    {
     "data": {
      "text/plain": [
       "True"
      ]
     },
     "execution_count": 3,
     "metadata": {},
     "output_type": "execute_result"
    }
   ],
   "source": [
    "tf.test.is_built_with_cuda()"
   ]
  },
  {
   "cell_type": "code",
   "execution_count": 16,
   "id": "dfc8cca1",
   "metadata": {},
   "outputs": [
    {
     "data": {
      "text/plain": [
       "[PhysicalDevice(name='/physical_device:GPU:0', device_type='GPU')]"
      ]
     },
     "execution_count": 16,
     "metadata": {},
     "output_type": "execute_result"
    }
   ],
   "source": [
    "gpu_devices = tf.config.list_physical_devices('GPU')\n",
    "gpu_devices\n"
   ]
  },
  {
   "cell_type": "code",
   "execution_count": 4,
   "id": "2a91782d",
   "metadata": {},
   "outputs": [
    {
     "data": {
      "text/plain": [
       "38.5"
      ]
     },
     "execution_count": 4,
     "metadata": {},
     "output_type": "execute_result"
    }
   ],
   "source": [
    "np.mean([23,54])"
   ]
  },
  {
   "cell_type": "code",
   "execution_count": 8,
   "id": "a87fd26e",
   "metadata": {},
   "outputs": [
    {
     "data": {
      "text/plain": [
       "[1, 2, 3, 4]"
      ]
     },
     "execution_count": 8,
     "metadata": {},
     "output_type": "execute_result"
    }
   ],
   "source": [
    "d={'items':[1,2,3,4],'prices':[122,344,555]}\n",
    "d.get(\"items\")"
   ]
  },
  {
   "cell_type": "code",
   "execution_count": 9,
   "id": "a34344d5",
   "metadata": {},
   "outputs": [
    {
     "name": "stdout",
     "output_type": "stream",
     "text": [
      "items [1, 2, 3, 4]\n",
      "prices [122, 344, 555]\n"
     ]
    }
   ],
   "source": [
    "for x,y in d.items():\n",
    "    print(x,y) "
   ]
  },
  {
   "cell_type": "code",
   "execution_count": 2,
   "id": "280e7526",
   "metadata": {},
   "outputs": [],
   "source": [
    "import json\n",
    "dic={'name':'Anurag',\n",
    "    'Branch':'AIDS'}\n",
    "with open('base.json','w') as f:\n",
    "    f.write(json.dumps(dic))\n"
   ]
  },
  {
   "cell_type": "code",
   "execution_count": 1,
   "id": "d29b9da6",
   "metadata": {},
   "outputs": [],
   "source": [
    "import tensorflow as tf"
   ]
  },
  {
   "cell_type": "code",
   "execution_count": 2,
   "id": "798d28e7",
   "metadata": {},
   "outputs": [
    {
     "data": {
      "text/plain": [
       "'2.12.0'"
      ]
     },
     "execution_count": 2,
     "metadata": {},
     "output_type": "execute_result"
    }
   ],
   "source": [
    "tf._"
   ]
  },
  {
   "cell_type": "code",
   "execution_count": 11,
   "id": "79d5ebcb",
   "metadata": {},
   "outputs": [
    {
     "data": {
      "text/plain": [
       "['the', 'and', 'or']"
      ]
     },
     "execution_count": 11,
     "metadata": {},
     "output_type": "execute_result"
    }
   ],
   "source": [
    "l=['the','and']\n",
    "s='the and or'\n",
    "s.split()"
   ]
  },
  {
   "cell_type": "code",
   "execution_count": 1,
   "id": "98d12b8f",
   "metadata": {},
   "outputs": [],
   "source": [
    "import nltk"
   ]
  },
  {
   "cell_type": "code",
   "execution_count": 2,
   "id": "2a50ce56",
   "metadata": {},
   "outputs": [
    {
     "name": "stderr",
     "output_type": "stream",
     "text": [
      "[nltk_data] Downloading package vader_lexicon to\n",
      "[nltk_data]     C:\\Users\\Dell\\AppData\\Roaming\\nltk_data...\n"
     ]
    },
    {
     "data": {
      "text/plain": [
       "True"
      ]
     },
     "execution_count": 2,
     "metadata": {},
     "output_type": "execute_result"
    }
   ],
   "source": [
    "nltk.download('vader_lexicon')"
   ]
  },
  {
   "cell_type": "code",
   "execution_count": 3,
   "id": "577e7a67",
   "metadata": {},
   "outputs": [],
   "source": [
    "from nltk.sentiment import SentimentIntensityAnalyzer"
   ]
  },
  {
   "cell_type": "code",
   "execution_count": 4,
   "id": "46ef1c92",
   "metadata": {},
   "outputs": [],
   "source": [
    "sia=SentimentIntensityAnalyzer()"
   ]
  },
  {
   "cell_type": "code",
   "execution_count": 6,
   "id": "92d7d136",
   "metadata": {},
   "outputs": [
    {
     "data": {
      "text/plain": [
       "{'neg': 0.451, 'neu': 0.549, 'pos': 0.0, 'compound': -0.6249}"
      ]
     },
     "execution_count": 6,
     "metadata": {},
     "output_type": "execute_result"
    }
   ],
   "source": [
    "sia.polarity_scores('This is the worst day ever')"
   ]
  },
  {
   "cell_type": "code",
   "execution_count": 18,
   "id": "1a514cb5",
   "metadata": {},
   "outputs": [
    {
     "data": {
      "text/plain": [
       "array([0., 0., 0., 0., 0., 0., 0., 0., 0., 0.])"
      ]
     },
     "execution_count": 18,
     "metadata": {},
     "output_type": "execute_result"
    }
   ],
   "source": [
    "array=np.array([1,2,3,4])\n",
    "zero=np.zeros(10)\n",
    "zero\n"
   ]
  },
  {
   "cell_type": "code",
   "execution_count": 11,
   "id": "75fd84ed",
   "metadata": {},
   "outputs": [
    {
     "data": {
      "text/plain": [
       "array([1., 2., 3., 4., 0., 0., 0., 0., 0., 0., 0., 0., 0., 0.])"
      ]
     },
     "execution_count": 11,
     "metadata": {},
     "output_type": "execute_result"
    }
   ],
   "source": [
    "np.concatenate((array,zero))\n"
   ]
  },
  {
   "cell_type": "code",
   "execution_count": 1,
   "id": "d3952169",
   "metadata": {},
   "outputs": [],
   "source": [
    "from tensorflow.keras.preprocessing.sequence import pad_sequences"
   ]
  },
  {
   "cell_type": "code",
   "execution_count": 24,
   "id": "c6a933b5",
   "metadata": {},
   "outputs": [],
   "source": [
    "import tensorflow as tf"
   ]
  },
  {
   "cell_type": "code",
   "execution_count": 2,
   "id": "7807bb9c",
   "metadata": {},
   "outputs": [],
   "source": [
    "daily_sales_num=[20,100,230,-45,811,-843]"
   ]
  },
  {
   "cell_type": "code",
   "execution_count": 3,
   "id": "a100dc8c",
   "metadata": {},
   "outputs": [],
   "source": [
    "tf_dataset=tf.data.Dataset.from_tensor_slices(daily_sales_num) "
   ]
  },
  {
   "cell_type": "code",
   "execution_count": 4,
   "id": "805bac51",
   "metadata": {},
   "outputs": [
    {
     "name": "stdout",
     "output_type": "stream",
     "text": [
      "20\n",
      "100\n",
      "230\n",
      "-45\n",
      "811\n",
      "-843\n"
     ]
    }
   ],
   "source": [
    "for sales in tf_dataset.as_numpy_iterator():\n",
    "    print(sales)"
   ]
  },
  {
   "cell_type": "code",
   "execution_count": 5,
   "id": "1fdadb13",
   "metadata": {},
   "outputs": [
    {
     "data": {
      "text/plain": [
       "[<tf.Tensor: shape=(), dtype=int32, numpy=20>,\n",
       " <tf.Tensor: shape=(), dtype=int32, numpy=100>,\n",
       " <tf.Tensor: shape=(), dtype=int32, numpy=230>,\n",
       " <tf.Tensor: shape=(), dtype=int32, numpy=-45>,\n",
       " <tf.Tensor: shape=(), dtype=int32, numpy=811>,\n",
       " <tf.Tensor: shape=(), dtype=int32, numpy=-843>]"
      ]
     },
     "execution_count": 5,
     "metadata": {},
     "output_type": "execute_result"
    }
   ],
   "source": [
    "l=list(tf_dataset)\n",
    "l"
   ]
  },
  {
   "cell_type": "code",
   "execution_count": 9,
   "id": "9b76b719",
   "metadata": {},
   "outputs": [
    {
     "name": "stdout",
     "output_type": "stream",
     "text": [
      "[20, 100, 230, 811]\n"
     ]
    }
   ],
   "source": [
    "tf_dataset = tf_dataset.filter(lambda X: X>0)\n",
    "print(list(tf_dataset.as_numpy_iterator()))"
   ]
  },
  {
   "cell_type": "code",
   "execution_count": 13,
   "id": "2bc48ade",
   "metadata": {},
   "outputs": [
    {
     "name": "stdout",
     "output_type": "stream",
     "text": [
      "20\n",
      "100\n",
      "230\n"
     ]
    }
   ],
   "source": [
    "for sales in tf_dataset.take(3).as_numpy_iterator():\n",
    "    print(sales)"
   ]
  },
  {
   "cell_type": "code",
   "execution_count": 20,
   "id": "db1ebaad",
   "metadata": {},
   "outputs": [
    {
     "name": "stdout",
     "output_type": "stream",
     "text": [
      "20\n",
      "100\n",
      "230\n",
      "811\n"
     ]
    }
   ],
   "source": [
    "tf_dataset.shuffle(buffer_size=2)\n",
    "for sales in tf_dataset.as_numpy_iterator():\n",
    "    print(sales)"
   ]
  },
  {
   "cell_type": "code",
   "execution_count": 23,
   "id": "1c1835ed",
   "metadata": {},
   "outputs": [
    {
     "name": "stdout",
     "output_type": "stream",
     "text": [
      "[ 20 100]\n",
      "[230 811]\n"
     ]
    }
   ],
   "source": [
    "for sales in tf_dataset.batch(2).as_numpy_iterator():\n",
    "    print(sales)"
   ]
  },
  {
   "cell_type": "code",
   "execution_count": 26,
   "id": "95ce6b2b",
   "metadata": {},
   "outputs": [
    {
     "name": "stdout",
     "output_type": "stream",
     "text": [
      "b'\\\\Users\\\\Dell\\\\Templates'\n",
      "b'\\\\Users\\\\Dell\\\\NTUSER.DAT'\n",
      "b'\\\\Users\\\\Dell\\\\Links'\n",
      "b'\\\\Users\\\\Dell\\\\ntuser.dat.LOG2'\n",
      "b'\\\\Users\\\\Dell\\\\Documents'\n"
     ]
    }
   ],
   "source": [
    "images_ds=tf.data.Dataset.list_files('/Users/Dell/*')\n",
    "for file in images_ds.take(5):\n",
    "    print(file.numpy())"
   ]
  },
  {
   "cell_type": "code",
   "execution_count": null,
   "id": "be1ea47c",
   "metadata": {},
   "outputs": [],
   "source": []
  },
  {
   "cell_type": "code",
   "execution_count": 27,
   "id": "b44e8e35",
   "metadata": {},
   "outputs": [],
   "source": [
    "import os\n",
    "def get_label(file_path):\n",
    "    return tf.strings.split(file_path,os.path.sep)[-1]\n",
    "    "
   ]
  },
  {
   "cell_type": "code",
   "execution_count": 32,
   "id": "b162df8d",
   "metadata": {},
   "outputs": [
    {
     "name": "stdout",
     "output_type": "stream",
     "text": [
      "b'Downloads'\n",
      "b'Recent'\n",
      "b'Searches'\n",
      "b'NTUSER.DAT{a2332f18-cdbf-11ec-8680-002248483d79}.TMContainer00000000000000000001.regtrans-ms'\n",
      "b'Music'\n"
     ]
    }
   ],
   "source": [
    "images_ds.map(get_label)\n",
    "for file in images_ds.map(get_label).take(5):\n",
    "    print(file.numpy())"
   ]
  },
  {
   "cell_type": "code",
   "execution_count": null,
   "id": "a603e12d",
   "metadata": {},
   "outputs": [],
   "source": []
  }
 ],
 "metadata": {
  "kernelspec": {
   "display_name": "Python 3 (ipykernel)",
   "language": "python",
   "name": "python3"
  },
  "language_info": {
   "codemirror_mode": {
    "name": "ipython",
    "version": 3
   },
   "file_extension": ".py",
   "mimetype": "text/x-python",
   "name": "python",
   "nbconvert_exporter": "python",
   "pygments_lexer": "ipython3",
   "version": "3.9.13"
  }
 },
 "nbformat": 4,
 "nbformat_minor": 5
}
